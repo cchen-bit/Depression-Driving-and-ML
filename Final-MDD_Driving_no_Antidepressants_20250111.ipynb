{
 "cells": [
  {
   "cell_type": "markdown",
   "id": "00b240c2-5544-48a8-a2a9-700e72bd1382",
   "metadata": {},
   "source": [
    "# Identifying Major Depressive Disorder in Older Adults Through Naturalistic Driving Behaviors and Machine Learning\n",
    "- Test with participants were not using antidepressants\n",
    "- by Chen Chen (c.chen2@wustl.edu) - 20250111"
   ]
  },
  {
   "cell_type": "code",
   "execution_count": 64,
   "id": "4205bd1e-3fc0-4b12-99d2-d27d51c9df28",
   "metadata": {
    "tags": []
   },
   "outputs": [],
   "source": [
    "# import libraries\n",
    "import pandas as pd\n",
    "import numpy as np\n",
    "import os\n",
    "import matplotlib.pyplot as plt\n",
    "\n",
    "from sklearn.preprocessing import OneHotEncoder\n",
    "from sklearn.model_selection import (\n",
    "    GridSearchCV, GroupKFold\n",
    ")\n",
    "from sklearn.metrics import (\n",
    "    accuracy_score, precision_score, \n",
    "    recall_score, f1_score, roc_curve, roc_auc_score, auc\n",
    ")\n",
    "from sklearn.utils import resample\n",
    "from xgboost import XGBClassifier\n",
    "import sklearn.metrics as metrics\n",
    "from scipy.stats import chi2_contingency\n",
    "from scipy.stats import ttest_ind\n",
    "from tableone import TableOne\n",
    "import warnings\n",
    "from sklearn.metrics import confusion_matrix"
   ]
  },
  {
   "cell_type": "code",
   "execution_count": 65,
   "id": "3347c2c5-a410-4474-a218-37d9e353c070",
   "metadata": {
    "tags": []
   },
   "outputs": [],
   "source": [
    "import sys\n",
    "import sklearn\n",
    "import xgboost\n",
    "import tableone"
   ]
  },
  {
   "cell_type": "code",
   "execution_count": 66,
   "id": "98812e6a-1c21-40b6-8242-f3e73a392fc3",
   "metadata": {},
   "outputs": [
    {
     "name": "stdout",
     "output_type": "stream",
     "text": [
      "3.11.5 | packaged by conda-forge | (main, Aug 27 2023, 03:34:09) [GCC 12.3.0]\n",
      "1.5.1\n",
      "2.1.1\n",
      "0.9.1\n"
     ]
    }
   ],
   "source": [
    "# Check versions\n",
    "print(sys.version)\n",
    "print(sklearn.__version__)\n",
    "print(xgboost.__version__)\n",
    "print(tableone.__version__)"
   ]
  },
  {
   "cell_type": "code",
   "execution_count": 67,
   "id": "7cb5aa7d-989a-4ea8-9d68-307da5766262",
   "metadata": {},
   "outputs": [],
   "source": [
    "# Suppress all future warnings\n",
    "warnings.simplefilter(action='ignore', category=FutureWarning)"
   ]
  },
  {
   "cell_type": "markdown",
   "id": "9d714988-b53d-418e-9201-d40d44e385ed",
   "metadata": {
    "tags": []
   },
   "source": [
    "### Prepare functions \n",
    "my_encoder, my_split, evaluate_model, calculate_ci, my_bootstrap, find_x, default_fit, tune_params, fea_impor\n"
   ]
  },
  {
   "cell_type": "code",
   "execution_count": 68,
   "id": "1ebeb687-27ab-4472-8ef3-ae59e6c6e7b3",
   "metadata": {
    "tags": []
   },
   "outputs": [],
   "source": [
    "# set the random seed as 42\n",
    "my_random_state = 42\n",
    "# folds\n",
    "my_folds = 10\n",
    "# model\n",
    "my_xgb = XGBClassifier(random_state=my_random_state)\n",
    "# set the cv to groupkfold\n",
    "my_cv = GroupKFold(n_splits=my_folds)\n",
    "\n",
    "# set the parameters that gridsearch needs to find\n",
    "param_xgb = {\n",
    "    'n_estimators': [100, 200, 300],\n",
    "    'learning_rate': [0.01, 0.1, 0.15, 0.3], # range: [0,1], [default=0.3]\n",
    "    'max_depth': [3, 4, 5, 6], # range: [0,∞], [default=6]\n",
    "    'subsample': [0.6, 0.8, 1.0],  # range: (0,1], [default=1]\n",
    "    'colsample_bytree': [0.8, 0.9, 1.0],\n",
    "    'gamma': [0, 0.1, 0.2], # range: [0,∞], [default=1]\n",
    "    'random_state': [my_random_state],\n",
    "    #'lambda': [0, 0.1, 1, 10],\n",
    "   # 'alpha': [0, 0.1, 1, 10]\n",
    "}"
   ]
  },
  {
   "cell_type": "code",
   "execution_count": 69,
   "id": "a8763842-e044-47aa-a4ce-b3d36613174b",
   "metadata": {},
   "outputs": [],
   "source": [
    "# Function to map months to seasons\n",
    "def get_season(month):\n",
    "    if month in [12, 1, 2]:\n",
    "        return 'Winter'\n",
    "    elif month in [3, 4, 5]:\n",
    "        return 'Spring'\n",
    "    elif month in [6, 7, 8]:\n",
    "        return 'Summer'\n",
    "    else:  # 9, 10, 11\n",
    "        return 'Fall'"
   ]
  },
  {
   "cell_type": "code",
   "execution_count": 70,
   "id": "f206ddf9-0198-428a-9110-25d2635e5e12",
   "metadata": {
    "tags": []
   },
   "outputs": [],
   "source": [
    "def my_encoder(df):\n",
    "    # Use OnehotEncoder of Scikitlearn\n",
    "    encoder = OneHotEncoder(sparse_output=False)\n",
    "    #Extract categorical columns from the dataframe\n",
    "    categorical_columns = df.select_dtypes(include=['object']).columns.tolist()\n",
    "    # Apply one-hot encoding to the categorical columns\n",
    "    one_hot_encoded = encoder.fit_transform(df[categorical_columns])\n",
    "    #Create a DataFrame with the one-hot encoded columns\n",
    "    # Ref: https://stackoverflow.com/questions/56338847/how-to-give-column-names-after-one-hot-encoding-with-sklearn\n",
    "    one_hot_df = pd.DataFrame(one_hot_encoded, columns=encoder.get_feature_names_out(categorical_columns))\n",
    "    # Concatenate the one-hot encoded dataframe with the original dataframe\n",
    "    df_encoded = pd.concat([df, one_hot_df], axis=1)\n",
    "    # Drop the original categorical columns\n",
    "    df_encoded = df_encoded.drop(categorical_columns, axis=1)\n",
    "    \n",
    "    return df_encoded"
   ]
  },
  {
   "cell_type": "code",
   "execution_count": 71,
   "id": "93c6b4a7-5c6c-420a-8b0a-376080282739",
   "metadata": {
    "tags": []
   },
   "outputs": [],
   "source": [
    "def my_split(X, y, seed=my_random_state, train_size=0.7):\n",
    "    \"\"\"\n",
    "    Splits data into training and testing sets based on unique participant IDs.\n",
    "    \"\"\"\n",
    "    # Assign random seed seed\n",
    "    rng = np.random.default_rng(seed)\n",
    "\n",
    "    # Identify all unique participantId values\n",
    "    unique_ids = X['participantId'].unique()\n",
    "\n",
    "    # Shuffle the unique IDs\n",
    "    rng.shuffle(unique_ids)\n",
    "\n",
    "    # Determine the number of IDs for each set\n",
    "    train_size = int( train_size * len(unique_ids) )\n",
    "\n",
    "    # Assign sets by filtering based on IDs\n",
    "    X_train = X[ X['participantId'].isin(unique_ids[:train_size])]\n",
    "    X_test = X[ X['participantId'].isin(unique_ids[train_size:])]  \n",
    "\n",
    "    y_train = y[ y['participantId'].isin(unique_ids[:train_size])]\n",
    "    y_test = y[ y['participantId'].isin(unique_ids[train_size:])]\n",
    "\n",
    "    return X_train, y_train, X_test, y_test"
   ]
  },
  {
   "cell_type": "code",
   "execution_count": 72,
   "id": "8201091b-eaf1-4efa-b23c-d2e7d764ddd8",
   "metadata": {
    "tags": []
   },
   "outputs": [],
   "source": [
    "def evaluate_model(y_test, y_pred, y_pred_prob):\n",
    "    \"\"\"\n",
    "    Calculate and print evaluation metrics for a model.\n",
    "    \"\"\"\n",
    "    # Calculate evaluation metrics\n",
    "    accuracy = accuracy_score(y_test, y_pred)\n",
    "    precision = precision_score(y_test, y_pred)\n",
    "    recall = recall_score(y_test, y_pred)\n",
    "    f1 = f1_score(y_test, y_pred)\n",
    "    roc_auc = roc_auc_score(y_test, y_pred_prob)\n",
    "    \n",
    "    # Print the evaluation metrics\n",
    "    print(f\"Accuracy: {accuracy:.2f}\")\n",
    "    print(f\"Precision: {precision:.2f}\")\n",
    "    print(f\"Recall: {recall:.2f}\")\n",
    "    print(f\"F1 Score: {f1:.2f}\")\n",
    "    print(f\"AUC-ROC: {roc_auc:.2f}\")"
   ]
  },
  {
   "cell_type": "code",
   "execution_count": 73,
   "id": "a4f43047-725b-4bfb-ba32-a662621407ce",
   "metadata": {
    "tags": []
   },
   "outputs": [],
   "source": [
    "def calculate_ci(data, confidence=0.95):\n",
    "    \"\"\"\n",
    "    Calculate confidence interval\n",
    "    \"\"\"\n",
    "    alpha = 1 - confidence  # Significance level\n",
    "    lower_ci = np.percentile(data, alpha / 2 * 100)  # Lower bound, return 2.5th percentile\n",
    "    upper_ci = np.percentile(data, (100 - alpha / 2 * 100))  # Upper bound, return 97.5th percentile\n",
    "    return round(lower_ci, 2), round(upper_ci, 2)  # Round to 2 decimal points"
   ]
  },
  {
   "cell_type": "code",
   "execution_count": 74,
   "id": "e1974a1e-42af-43c5-ba5a-cf1a7c38595f",
   "metadata": {},
   "outputs": [],
   "source": [
    "def my_bootstrap(best_model, X_test, y_test, num_bootstraps=1000, sample_fraction=0.25):\n",
    "    \"\"\"\n",
    "    Perform bootstrapping and calculate evaluation metrics with confidence intervals.\n",
    "    \"\"\"\n",
    "    # Lists to store evaluation metrics\n",
    "    accuracy = []\n",
    "    precision = []\n",
    "    recall = []\n",
    "    specificity = [] \n",
    "    f1 = []\n",
    "    roc_auc = []\n",
    "    \n",
    "    # Lists to store ROC curve data\n",
    "    tprs = []\n",
    "    fprs = []\n",
    "    mean_fpr = np.linspace(0, 1, 100)  # Fixed FPR points for interpolation\n",
    "\n",
    "    my_samples = int(sample_fraction * len(X_test))\n",
    "\n",
    "    for i in range(num_bootstraps):\n",
    "        # Resample the test data\n",
    "        X_sample, y_sample = resample(X_test, y_test, n_samples=my_samples)\n",
    "\n",
    "        # Predict on the bootstrapped sample using the trained model\n",
    "        y_pred_prob = best_model.predict_proba(X_sample)[:, 1] \n",
    "        y_pred_best = best_model.predict(X_sample)\n",
    "        \n",
    "        # Calculate confusion matrix components\n",
    "        tn, fp, fn, tp = confusion_matrix(y_sample, y_pred_best).ravel()\n",
    "\n",
    "        # Calculate and store metrics\n",
    "        accuracy.append(accuracy_score(y_sample, y_pred_best))\n",
    "        precision.append(precision_score(y_sample, y_pred_best))\n",
    "        recall.append(recall_score(y_sample, y_pred_best))\n",
    "        specificity.append(tn / (tn + fp))  # Specificity calculation\n",
    "        f1.append(f1_score(y_sample, y_pred_best))        \n",
    "        roc_auc.append(roc_auc_score(y_sample, y_pred_prob))\n",
    "        \n",
    "        # Calculate ROC curve for the current bootstrap sample\n",
    "        fpr, tpr, _ = roc_curve(y_sample, y_pred_prob)\n",
    "        \n",
    "        # Interpolate TPR at the fixed FPR points\n",
    "        interp_tpr = np.interp(mean_fpr, fpr, tpr)\n",
    "        interp_tpr[0] = 0.0  \n",
    "        tprs.append(interp_tpr)\n",
    "        fprs.append(fpr)\n",
    "\n",
    "    # Calculate CIs for each metric\n",
    "    metrics_ci = {\n",
    "        \"accuracy\": calculate_ci(accuracy),\n",
    "        \"precision\": calculate_ci(precision),\n",
    "        \"recall\": calculate_ci(recall),\n",
    "        \"specificity\": calculate_ci(specificity), \n",
    "        \"f1_score\": calculate_ci(f1),\n",
    "        \"roc_auc\": calculate_ci(roc_auc)\n",
    "    }\n",
    "    \n",
    "    metrics_std = {\n",
    "        \"accuracy_std\": np.std(accuracy),\n",
    "        \"precision_std\": np.std(precision),\n",
    "        \"recall_std\": np.std(recall),\n",
    "        \"specificity_std\": np.std(specificity),\n",
    "        \"f1_score_std\": np.std(f1),\n",
    "        \"roc_auc_std\": np.std(roc_auc)\n",
    "    }\n",
    "    \n",
    "    # Store metrics with two-digit formatting for table creation\n",
    "    formatted_metrics = {\n",
    "        \"accuracy\": round(np.mean(accuracy), 2),\n",
    "        \"precision\": round(np.mean(precision), 2),\n",
    "        \"recall\": round(np.mean(recall), 2),\n",
    "        \"specificity\": round(np.mean(specificity), 2),\n",
    "        \"f1_score\": round(np.mean(f1), 2),\n",
    "        \"roc_auc\": round(np.mean(roc_auc), 2),\n",
    "    }\n",
    "    \n",
    "    formatted_metrics_ci = {\n",
    "        \"accuracy_ci\": metrics_ci[\"accuracy\"],\n",
    "        \"precision_ci\": metrics_ci[\"precision\"],\n",
    "        \"recall_ci\": metrics_ci[\"recall\"],\n",
    "        \"specificity_ci\": metrics_ci[\"specificity\"],\n",
    "        \"f1_score_ci\": metrics_ci[\"f1_score\"],\n",
    "        \"roc_auc_ci\": metrics_ci[\"roc_auc\"]\n",
    "    }\n",
    "\n",
    "    formatted_metrics_std = {\n",
    "        \"accuracy_std\": round(metrics_std[\"accuracy_std\"], 2),\n",
    "        \"precision_std\": round(metrics_std[\"precision_std\"], 2),\n",
    "        \"recall_std\": round(metrics_std[\"recall_std\"], 2),\n",
    "        \"specificity_std\": round(metrics_std[\"specificity_std\"], 2),\n",
    "        \"f1_score_std\": round(metrics_std[\"f1_score_std\"], 2),\n",
    "        \"roc_auc_std\": round(metrics_std[\"roc_auc_std\"], 2),\n",
    "    }\n",
    "    \n",
    "\n",
    "    # Print metrics, their confidence intervals, standard deviations, and maximum values\n",
    "    print(f\"Accuracy: {formatted_metrics['accuracy']}, CI: {formatted_metrics_ci['accuracy_ci']}, \"\n",
    "          f\"Std Dev: {formatted_metrics_std['accuracy_std']}\")\n",
    "    \n",
    "    print(f\"Precision: {formatted_metrics['precision']}, CI: {formatted_metrics_ci['precision_ci']}, \"\n",
    "          f\"Std Dev: {formatted_metrics_std['precision_std']}\")\n",
    "    \n",
    "    print(f\"Recall: {formatted_metrics['recall']}, CI: {formatted_metrics_ci['recall_ci']}, \"\n",
    "          f\"Std Dev: {formatted_metrics_std['recall_std']}\")\n",
    "    \n",
    "    print(f\"Specificity: {formatted_metrics['specificity']}, CI: {formatted_metrics_ci['specificity_ci']}, \"\n",
    "          f\"Std Dev: {formatted_metrics_std['specificity_std']}\")\n",
    "    \n",
    "    print(f\"F1 Score: {formatted_metrics['f1_score']}, CI: {formatted_metrics_ci['f1_score_ci']}, \"\n",
    "          f\"Std Dev: {formatted_metrics_std['f1_score_std']}\")\n",
    "    \n",
    "    print(f\"ROC AUC: {formatted_metrics['roc_auc']}, CI: {formatted_metrics_ci['roc_auc_ci']}, \"\n",
    "          f\"Std Dev: {formatted_metrics_std['roc_auc_std']}\")\n",
    "\n",
    "    return formatted_metrics, formatted_metrics_ci, formatted_metrics_std, np.array(tprs), mean_fpr"
   ]
  },
  {
   "cell_type": "code",
   "execution_count": 75,
   "id": "29eef8e9-f421-4c2a-904b-fd93952e4ab7",
   "metadata": {},
   "outputs": [],
   "source": [
    "def find_x(fn, X_train, X_test): \n",
    "    \"\"\"\n",
    "    find train/test sets that matched to target variables\n",
    "    \"\"\"\n",
    "    feature_names = fn\n",
    "    X_train1 = X_train[feature_names]\n",
    "    X_test1 = X_test[feature_names]\n",
    "    return X_train1, X_test1"
   ]
  },
  {
   "cell_type": "code",
   "execution_count": 76,
   "id": "e4826f0f-c292-4dff-92d8-0e4c071f15c6",
   "metadata": {
    "tags": []
   },
   "outputs": [],
   "source": [
    "def default_fit(model, X_train, y_train, X_test, y_test):\n",
    "    \"\"\"\n",
    "    fit the default model\n",
    "    \"\"\"\n",
    "    model = my_xgb  \n",
    "    # Train the model\n",
    "    model.fit(X_train, y_train)\n",
    "    # Make predictions\n",
    "    y_pred_prob = model.predict_proba(X_test)[:, 1]\n",
    "    y_pred = model.predict(X_test)\n",
    "    \n",
    "    evaluate_model(y_test, y_pred, y_pred_prob)"
   ]
  },
  {
   "cell_type": "code",
   "execution_count": 77,
   "id": "d67e5bc5-8a87-470f-ba5d-5cf5d6e120c1",
   "metadata": {
    "tags": []
   },
   "outputs": [],
   "source": [
    "# Create the GridSearchCV object\n",
    "def tune_params(model, param_xgb, X_train, y_train, X_test, y_test, cv=my_cv, groups=None, scoring='recall', n_jobs=-1):\n",
    "    \"\"\"\n",
    "    Use grid search to tune the model hyperparameters and return the best model and predictions.\n",
    "    \"\"\"\n",
    "    # Perform grid search\n",
    "    grid_xgb = GridSearchCV(estimator=model, \n",
    "                            param_grid=param_xgb, \n",
    "                            scoring=scoring, \n",
    "                            cv=my_cv, \n",
    "                            n_jobs=n_jobs)\n",
    "    \n",
    "    # Fit the grid search model on the training data\n",
    "    grid_xgb.fit(X_train, y_train, groups=groups)\n",
    "    \n",
    "    # Get the best model from the grid search\n",
    "    best_model = grid_xgb.best_estimator_\n",
    "    \n",
    "    # Print the best parameters found by grid search\n",
    "    print(\"Best Parameters found: \", grid_xgb.best_params_)\n",
    "    \n",
    "    # Make predictions on the train set using the best model\n",
    "    Train_y_pred_best = best_model.predict(X_train)\n",
    "    Train_y_pred_prob_best = best_model.predict_proba(X_train)[:, 1]\n",
    "    \n",
    "    # Make predictions on the test set using the best model\n",
    "    y_pred_best = best_model.predict(X_test)\n",
    "    y_pred_prob_best = best_model.predict_proba(X_test)[:, 1] \n",
    "    \n",
    "    print(\"model performance on train set\")\n",
    "    evaluate_model(y_train, Train_y_pred_best, Train_y_pred_prob_best)\n",
    "\n",
    "    print(\"model performance on test set\")\n",
    "    evaluate_model(y_test, y_pred_best, y_pred_prob_best)\n",
    "    \n",
    "    return best_model, y_pred_best, y_pred_prob_best"
   ]
  },
  {
   "cell_type": "code",
   "execution_count": 78,
   "id": "a832022c-0a4e-42cb-a37b-de8a3a223a3a",
   "metadata": {
    "tags": []
   },
   "outputs": [],
   "source": [
    "# find feature importance by gain\n",
    "def fea_impor(best_model, importance_type=\"gain\", max_num_features=10, model_name=\"XGBoost\"):\n",
    "    \"\"\"\n",
    "    Plot feature importance for a tuned XGBoost model with color map.\n",
    "    \"\"\"\n",
    "    \n",
    "    # Extract feature importance\n",
    "    feature_importance = best_model.get_booster().get_score(importance_type=importance_type)\n",
    "    \n",
    "    # Convert to DataFrame for sorting and plotting\n",
    "    importance_df = pd.DataFrame(\n",
    "        list(feature_importance.items()), columns=['Feature', 'Importance']\n",
    "    ).sort_values(by='Importance', ascending=False)\n",
    "    \n",
    "    importance_df['Feature'] = importance_df['Feature'].map(feature_name_map).astype(str)\n",
    " \n",
    "    # Create the color map\n",
    "    colormap = plt.cm.viridis(np.linspace(0, 1, len(importance_df)))\n",
    "    \n",
    "    \n",
    "    # Plot feature importance with different colors\n",
    "    plt.figure(figsize=(12, 10))\n",
    "    plt.barh(importance_df['Feature'], importance_df['Importance'], color=colormap)\n",
    "    plt.gca().invert_yaxis()  # Highest importance at the top\n",
    "    plt.xlabel(f'Feature Importance ({importance_type.capitalize()})')\n",
    "    plt.ylabel('Features')\n",
    "    plt.title(f'Top Important Features by {importance_type.capitalize()} - Model with {model_name}')\n",
    "    plt.grid(True)\n",
    "    plt.savefig(f'feature_importance{model_name}.png', bbox_inches='tight')\n",
    "    plt.show()"
   ]
  },
  {
   "cell_type": "markdown",
   "id": "1027d988-3848-4a39-8e02-d9827a7cd6f3",
   "metadata": {
    "tags": []
   },
   "source": [
    "### Create different feature sets "
   ]
  },
  {
   "cell_type": "code",
   "execution_count": 79,
   "id": "77b56ba2-c526-4c40-afdd-30135a24577a",
   "metadata": {
    "tags": []
   },
   "outputs": [],
   "source": [
    "# Seperate different sets of features\n",
    "# Define a list of columns to drop\n",
    "driving_features = [\n",
    " 'nHardcoreBrake',\n",
    " 'nHardcornering',\n",
    " 'Days_driven_per_month',\n",
    " 'nTrips_1mi',\n",
    " 'nTrips_1to5mi',\n",
    " 'randomEntropy',\n",
    " 'radiusOfGyration',\n",
    " 'maxDistanceFromHome',\n",
    " 'maxDistance',\n",
    " 'numberOfUniqueDestinations',\n",
    " 'season_Fall',\n",
    " 'season_Spring',\n",
    " 'season_Summer',\n",
    " 'season_Winter'\n",
    "]\n",
    "\n",
    "demo_driving_features = [\n",
    " 'gender_male',\n",
    " 'gender_female',\n",
    " 'educ',\n",
    " 'age',\n",
    " 'nHardcoreBrake',\n",
    " 'nHardcornering',\n",
    " 'Days_driven_per_month',\n",
    " 'nTrips_1mi',\n",
    " 'nTrips_1to5mi',\n",
    " 'randomEntropy',\n",
    " 'radiusOfGyration',\n",
    " 'maxDistanceFromHome',\n",
    " 'maxDistance',\n",
    " 'numberOfUniqueDestinations',\n",
    " 'season_Fall',\n",
    " 'season_Spring',\n",
    " 'season_Summer',\n",
    " 'season_Winter'\n",
    "]\n",
    "\n",
    "anti_driving_features = [\n",
    " 'Antidepressant_yes',\n",
    " 'Antidepressant_no',   \n",
    " 'nHardcoreBrake',\n",
    " 'nHardcornering',\n",
    " 'Days_driven_per_month',\n",
    " 'nTrips_1mi',\n",
    " 'nTrips_1to5mi',\n",
    " 'randomEntropy',\n",
    " 'radiusOfGyration',\n",
    " 'maxDistanceFromHome',\n",
    " 'maxDistance',\n",
    " 'numberOfUniqueDestinations',\n",
    " 'season_Fall',\n",
    " 'season_Spring',\n",
    " 'season_Summer',\n",
    " 'season_Winter'\n",
    "]\n",
    "\n",
    "total_driving_features = [\n",
    " 'Total',\n",
    " 'nHardcoreBrake',\n",
    " 'nHardcornering',\n",
    " 'Days_driven_per_month',\n",
    " 'nTrips_1mi',\n",
    " 'nTrips_1to5mi',\n",
    " 'randomEntropy',\n",
    " 'radiusOfGyration',\n",
    " 'maxDistanceFromHome',\n",
    " 'maxDistance',\n",
    " 'numberOfUniqueDestinations',\n",
    " 'season_Fall',\n",
    " 'season_Spring',\n",
    " 'season_Summer',\n",
    " 'season_Winter'\n",
    "]\n",
    "\n",
    "anti_demo_driving_features = [\n",
    " 'gender_male',\n",
    " 'gender_female',\n",
    " 'educ',\n",
    " 'age',\n",
    " 'Antidepressant_yes',\n",
    " 'Antidepressant_no',\n",
    " 'nHardcoreBrake',\n",
    " 'nHardcornering',\n",
    " 'Days_driven_per_month',\n",
    " 'nTrips_1mi',\n",
    " 'nTrips_1to5mi',\n",
    " 'randomEntropy',\n",
    " 'radiusOfGyration',\n",
    " 'maxDistanceFromHome',\n",
    " 'maxDistance',\n",
    " 'numberOfUniqueDestinations',\n",
    " 'season_Fall',\n",
    " 'season_Spring',\n",
    " 'season_Summer',\n",
    " 'season_Winter'\n",
    "]\n",
    "\n",
    "total_demo_driving_features = [\n",
    " 'gender_male',\n",
    " 'gender_female',\n",
    " 'educ',\n",
    " 'age',\n",
    " 'Total',\n",
    " 'nHardcoreBrake',\n",
    " 'nHardcornering',\n",
    " 'Days_driven_per_month',\n",
    " 'nTrips_1mi',\n",
    " 'nTrips_1to5mi',\n",
    " 'randomEntropy',\n",
    " 'radiusOfGyration',\n",
    " 'maxDistanceFromHome',\n",
    " 'maxDistance',\n",
    " 'numberOfUniqueDestinations',\n",
    " 'season_Fall',\n",
    " 'season_Spring',\n",
    " 'season_Summer',\n",
    " 'season_Winter'\n",
    "]"
   ]
  },
  {
   "cell_type": "code",
   "execution_count": 80,
   "id": "84a2c006-5a76-4eff-be9d-19973c95bcd0",
   "metadata": {
    "tags": []
   },
   "outputs": [],
   "source": [
    "# create a name map for plotting\n",
    "feature_name_map = {\n",
    "    'nHardcoreBrake': 'Rate of Hardcore Braking Events',\n",
    "    'nHardcornering': 'Rate of Hard cornering Events',\n",
    "    'Days_driven_per_month': 'Number of Days Driven',\n",
    "    'nTrips_1mi': 'Number of Trips less than 1 mile',\n",
    "    'nTrips_1to5mi': 'Number of Trips between 1 mile to 5 miles',\n",
    "    'randomEntropy': 'Random Entropy',\n",
    "    'radiusOfGyration': 'Radius of Gyration',\n",
    "    'maxDistanceFromHome': 'Maximum Distance from Home',\n",
    "    'maxDistance': 'Maximum of Distance',\n",
    "    'numberOfUniqueDestinations': 'Number of Unique Destinations',\n",
    "    'gender_male': 'Sex-male',\n",
    "    'gender_female': 'Sex-female',\n",
    "    'age': 'Age',\n",
    "    'Antidepressant_yes': 'Antidepressants-yes',\n",
    "    'Antidepressant_no': 'Antidepressants-no',\n",
    "    'Total': 'Total classes of Medication',\n",
    "    'educ': 'Years of education',\n",
    "    'season_Fall': 'Fall',\n",
    "    'season_Spring': 'Spring',\n",
    "    'season_Summer': 'Summer',\n",
    "    'season_Winter': 'Winter'\n",
    "}"
   ]
  },
  {
   "cell_type": "code",
   "execution_count": 85,
   "id": "bc0f9656-07de-4001-aea8-4eaada98bb9f",
   "metadata": {},
   "outputs": [],
   "source": [
    "# Add season column\n",
    "data = data.copy()\n",
    "data['season'] = data['month'].apply(get_season)"
   ]
  },
  {
   "cell_type": "code",
   "execution_count": 88,
   "id": "d6691b42-af82-42f0-b956-b9cf9ad1e121",
   "metadata": {
    "tags": []
   },
   "outputs": [],
   "source": [
    "# recode Antidepressant as object\n",
    "data['Antidepressant'] = data['Antidepressant'].replace({1.0: 'yes', \n",
    "                                                         0.0: 'no'})\n",
    "\n",
    "# drop unneeded variables in this analysis\n",
    "df = data.drop(\n",
    "    ['vehicleName','year','month'], axis=1).copy()\n",
    "\n",
    "# recode dp to 0 and 1. \n",
    "df['dp'] = df['dp'].replace({'yes': 1, 'no': 0}).astype(int)\n",
    "\n",
    "# recode gender to male and female. 1: male, 2: female\n",
    "# https://redcap.wustl.edu/redcap/redcap_v14.0.34/Design/data_dictionary_codebook.php?pid=7842\n",
    "df['gender'] = df['gender'].replace({1: 'male', 2: 'female'})"
   ]
  },
  {
   "cell_type": "code",
   "execution_count": 89,
   "id": "5c04f161-1304-47bf-bc70-16445e6b5039",
   "metadata": {
    "tags": []
   },
   "outputs": [],
   "source": [
    "# encode the df\n",
    "df_encoded = my_encoder(df)"
   ]
  },
  {
   "cell_type": "code",
   "execution_count": 90,
   "id": "b4f926d7-3298-4725-a2fc-eaf00035feb5",
   "metadata": {
    "tags": []
   },
   "outputs": [
    {
     "data": {
      "text/plain": [
       "(3070, 23)"
      ]
     },
     "execution_count": 90,
     "metadata": {},
     "output_type": "execute_result"
    }
   ],
   "source": [
    "df_encoded = df_encoded.copy()\n",
    "df_encoded = df_encoded[df_encoded['Antidepressant_no'] == 1.0]\n",
    "df_encoded.shape"
   ]
  },
  {
   "cell_type": "code",
   "execution_count": 92,
   "id": "1839c57f-c1f9-497e-b5f4-7ad791f8de5c",
   "metadata": {
    "tags": []
   },
   "outputs": [],
   "source": [
    "columns_to_convert = [\n",
    "    'gender_female',\n",
    "    'gender_male',\n",
    "    'Antidepressant_no',\n",
    "    'Antidepressant_yes',\n",
    "    'season_Fall',\n",
    "    'season_Spring',\n",
    "    'season_Summer',\n",
    "    'season_Winter'\n",
    "]\n",
    "\n",
    "# Convert these columns to integers\n",
    "df_encoded[columns_to_convert] = df_encoded[columns_to_convert].astype(int)"
   ]
  },
  {
   "cell_type": "markdown",
   "id": "42830149-58e7-4b47-b64e-150763dbfd4b",
   "metadata": {
    "tags": []
   },
   "source": [
    "## Encoding & Train/Test split"
   ]
  },
  {
   "cell_type": "code",
   "execution_count": 94,
   "id": "9f380761-d69a-4c6b-8ac9-3387a5a72522",
   "metadata": {
    "tags": []
   },
   "outputs": [],
   "source": [
    "# spilt X and y \n",
    "# drop dp in X and include id and dp to y\n",
    "X = df_encoded.drop(['dp'], axis=1).copy()\n",
    "y = df_encoded[['participantId', 'dp']].copy()\n",
    "\n",
    "# apply my_split to X and y\n",
    "splits = my_split(X, y, seed=my_random_state, train_size=0.7)\n",
    "X_train, y_train, X_test, y_test = splits"
   ]
  },
  {
   "cell_type": "code",
   "execution_count": 95,
   "id": "0c46bdda-8a2a-4072-8170-d42be0d3f899",
   "metadata": {
    "tags": []
   },
   "outputs": [],
   "source": [
    "# groups equals to the participant ids in the train set\n",
    "groups = X_train['participantId'].values"
   ]
  },
  {
   "cell_type": "code",
   "execution_count": 96,
   "id": "4fd828e7-8757-47de-a269-11b6b30127c0",
   "metadata": {
    "tags": []
   },
   "outputs": [],
   "source": [
    "# remove the key 'participantId'\n",
    "X_train = X_train.drop('participantId', axis=1)\n",
    "y_train = y_train.drop('participantId', axis=1)\n",
    "X_test = X_test.drop('participantId', axis=1)\n",
    "y_test = y_test.drop('participantId', axis=1) "
   ]
  },
  {
   "cell_type": "code",
   "execution_count": 97,
   "id": "9ca48a8a-942b-4e17-a620-3d2f6f427062",
   "metadata": {
    "tags": []
   },
   "outputs": [],
   "source": [
    "# phase 0\n",
    "X_train0, X_test0 = find_x(driving_features, X_train, X_test)\n",
    "# phase 1\n",
    "X_train1, X_test1 = find_x(demo_driving_features, X_train, X_test)\n",
    "# phase 2\n",
    "X_train2, X_test2 = find_x(anti_driving_features, X_train, X_test)\n",
    "X_train3, X_test3 = find_x(total_driving_features , X_train, X_test)\n",
    "# phase 3\n",
    "X_train4, X_test4 = find_x(anti_demo_driving_features, X_train, X_test)\n",
    "X_train5, X_test5 = find_x(total_demo_driving_features, X_train, X_test)"
   ]
  },
  {
   "cell_type": "markdown",
   "id": "63101d7a-1298-4f4d-a07d-e6778cbd7186",
   "metadata": {},
   "source": [
    "### Check distribution"
   ]
  },
  {
   "cell_type": "code",
   "execution_count": 100,
   "id": "507fb423-b4d8-4201-a54a-36b8f0c5d041",
   "metadata": {
    "tags": []
   },
   "outputs": [],
   "source": [
    "df_check_train = X_train.copy()\n",
    "df_check_train['group'] = 'train'\n",
    "df_check_train['dp'] = y_train\n",
    "\n",
    "df_check_test = X_test.copy()\n",
    "df_check_test['group'] = 'test'\n",
    "df_check_test['dp'] = y_test\n",
    "\n",
    "# Combine the two DataFrames\n",
    "combined_data = pd.concat([df_check_train, df_check_test], ignore_index=True)"
   ]
  },
  {
   "cell_type": "code",
   "execution_count": 101,
   "id": "986df027-de04-4663-909e-539bda6f22dd",
   "metadata": {
    "tags": []
   },
   "outputs": [
    {
     "name": "stdout",
     "output_type": "stream",
     "text": [
      "╒═══════════════════════════════════════╤════╤═══════════╤══════════════════╤══════════════════╤══════════════════╤═══════════╕\n",
      "│                                       │    │ Missing   │ Overall          │ test             │ train            │ P-Value   │\n",
      "╞═══════════════════════════════════════╪════╪═══════════╪══════════════════╪══════════════════╪══════════════════╪═══════════╡\n",
      "│ n                                     │    │           │ 3070             │ 930              │ 2140             │           │\n",
      "├───────────────────────────────────────┼────┼───────────┼──────────────────┼──────────────────┼──────────────────┼───────────┤\n",
      "│ nHardcoreBrake, mean (SD)             │    │ 0         │ 0.001 (0.003)    │ 0.001 (0.003)    │ 0.001 (0.003)    │ 0.623     │\n",
      "├───────────────────────────────────────┼────┼───────────┼──────────────────┼──────────────────┼──────────────────┼───────────┤\n",
      "│ nHardcornering, mean (SD)             │    │ 0         │ 0.025 (0.053)    │ 0.030 (0.064)    │ 0.023 (0.047)    │ 0.005     │\n",
      "├───────────────────────────────────────┼────┼───────────┼──────────────────┼──────────────────┼──────────────────┼───────────┤\n",
      "│ Days_driven_per_month, mean (SD)      │    │ 0         │ 20.83 (7.69)     │ 22.19 (7.27)     │ 20.24 (7.79)     │ <0.001    │\n",
      "├───────────────────────────────────────┼────┼───────────┼──────────────────┼──────────────────┼──────────────────┼───────────┤\n",
      "│ nTrips_1mi, mean (SD)                 │    │ 0         │ 18.60 (16.45)    │ 17.33 (16.54)    │ 19.15 (16.38)    │ 0.005     │\n",
      "├───────────────────────────────────────┼────┼───────────┼──────────────────┼──────────────────┼──────────────────┼───────────┤\n",
      "│ nTrips_1to5mi, mean (SD)              │    │ 0         │ 42.74 (31.75)    │ 47.00 (29.56)    │ 40.88 (32.48)    │ <0.001    │\n",
      "├───────────────────────────────────────┼────┼───────────┼──────────────────┼──────────────────┼──────────────────┼───────────┤\n",
      "│ randomEntropy, mean (SD)              │    │ 0         │ 5.03 (0.96)      │ 5.19 (0.91)      │ 4.96 (0.98)      │ <0.001    │\n",
      "├───────────────────────────────────────┼────┼───────────┼──────────────────┼──────────────────┼──────────────────┼───────────┤\n",
      "│ radiusOfGyration, mean (SD)           │    │ 0         │ 74.68 (274.53)   │ 66.65 (203.98)   │ 78.17 (300.04)   │ 0.216     │\n",
      "├───────────────────────────────────────┼────┼───────────┼──────────────────┼──────────────────┼──────────────────┼───────────┤\n",
      "│ maxDistanceFromHome, mean (SD)        │    │ 0         │ 414.43 (1723.30) │ 376.16 (1569.78) │ 431.07 (1786.01) │ 0.394     │\n",
      "├───────────────────────────────────────┼────┼───────────┼──────────────────┼──────────────────┼──────────────────┼───────────┤\n",
      "│ maxDistance, mean (SD)                │    │ 0         │ 58.37 (70.08)    │ 60.61 (66.44)    │ 57.39 (71.59)    │ 0.230     │\n",
      "├───────────────────────────────────────┼────┼───────────┼──────────────────┼──────────────────┼──────────────────┼───────────┤\n",
      "│ numberOfUniqueDestinations, mean (SD) │    │ 0         │ 39.03 (21.61)    │ 42.41 (19.90)    │ 37.56 (22.15)    │ <0.001    │\n",
      "╘═══════════════════════════════════════╧════╧═══════════╧══════════════════╧══════════════════╧══════════════════╧═══════════╛\n"
     ]
    }
   ],
   "source": [
    "# Columns to include in the table\n",
    "columns = ['nHardcoreBrake', 'nHardcornering',\n",
    "       'Days_driven_per_month', 'nTrips_1mi', 'nTrips_1to5mi', 'randomEntropy',\n",
    "       'radiusOfGyration', 'maxDistanceFromHome', 'maxDistance',\n",
    "       'numberOfUniqueDestinations']  \n",
    "groupby = 'group'  # stratify by group \n",
    "decimals = {'nHardcoreBrake': 3, 'nHardcornering': 3,'Days_driven_per_month':2, 'nTrips_1mi':2, 'nTrips_1to5mi':2, 'randomEntropy':2,\n",
    "       'radiusOfGyration':2, 'maxDistanceFromHome':2, 'maxDistance':2,\n",
    "       'numberOfUniqueDestinations':2\n",
    "}\n",
    "# Create TableOne\n",
    "table_driving = TableOne(combined_data, columns=columns, \n",
    "                      #categorical=categorical, \n",
    "                      groupby=groupby, decimals=decimals, pval=True)\n",
    "\n",
    "# Print \n",
    "print(table_driving.tabulate(tablefmt=\"fancy_grid\"))"
   ]
  },
  {
   "cell_type": "code",
   "execution_count": 103,
   "id": "db9852c6-fbc6-47be-a876-bd4825cff178",
   "metadata": {
    "tags": []
   },
   "outputs": [
    {
     "name": "stdout",
     "output_type": "stream",
     "text": [
      "╒═══════════════════════════════╤════╤═══════════╤══════════════╤══════════════╤══════════════╤═══════════╕\n",
      "│                               │    │ Missing   │ Overall      │ test         │ train        │ P-Value   │\n",
      "╞═══════════════════════════════╪════╪═══════════╪══════════════╪══════════════╪══════════════╪═══════════╡\n",
      "│ n                             │    │           │ 3070         │ 930          │ 2140         │           │\n",
      "├───────────────────────────────┼────┼───────────┼──────────────┼──────────────┼──────────────┼───────────┤\n",
      "│ dp, n (%)                     │ 0  │           │ 1658 (54.0)  │ 547 (58.8)   │ 1111 (51.9)  │ <0.001    │\n",
      "├───────────────────────────────┼────┼───────────┼──────────────┼──────────────┼──────────────┼───────────┤\n",
      "│                               │ 1  │           │ 1412 (46.0)  │ 383 (41.2)   │ 1029 (48.1)  │           │\n",
      "├───────────────────────────────┼────┼───────────┼──────────────┼──────────────┼──────────────┼───────────┤\n",
      "│ age, mean (SD)                │    │ 0         │ 73.56 (5.46) │ 73.74 (5.95) │ 73.48 (5.23) │ 0.249     │\n",
      "├───────────────────────────────┼────┼───────────┼──────────────┼──────────────┼──────────────┼───────────┤\n",
      "│ gender_female, n (%)          │ 0  │           │ 1510 (49.19) │ 427 (45.91)  │ 1083 (50.61) │ 0.019     │\n",
      "├───────────────────────────────┼────┼───────────┼──────────────┼──────────────┼──────────────┼───────────┤\n",
      "│                               │ 1  │           │ 1560 (50.81) │ 503 (54.09)  │ 1057 (49.39) │           │\n",
      "├───────────────────────────────┼────┼───────────┼──────────────┼──────────────┼──────────────┼───────────┤\n",
      "│ Antidepressant_yes, mean (SD) │    │ 0         │ 0.00 (0.00)  │ 0.00 (0.00)  │ 0.00 (0.00)  │ nan       │\n",
      "├───────────────────────────────┼────┼───────────┼──────────────┼──────────────┼──────────────┼───────────┤\n",
      "│ educ, mean (SD)               │    │ 0         │ 16.70 (2.36) │ 16.25 (2.16) │ 16.90 (2.42) │ <0.001    │\n",
      "├───────────────────────────────┼────┼───────────┼──────────────┼──────────────┼──────────────┼───────────┤\n",
      "│ Total, mean (SD)              │    │ 0         │ 0.22 (0.60)  │ 0.29 (0.67)  │ 0.20 (0.57)  │ <0.001    │\n",
      "╘═══════════════════════════════╧════╧═══════════╧══════════════╧══════════════╧══════════════╧═══════════╛\n"
     ]
    }
   ],
   "source": [
    "# Columns to include in the table\n",
    "columns = ['dp','age', 'gender_female', \n",
    "           'Antidepressant_yes',\n",
    "           'educ', 'Total']  \n",
    "categorical = ['dp', 'gender_female', \n",
    "               #'Antidepressant_yes'\n",
    "              ]  \n",
    "groupby = 'group'  # stratify by dp \n",
    "decimals = {\n",
    "    'age': 2,\n",
    "    'gender_female': 2,\n",
    "    'educ': 2,\n",
    "    'Total': 2,\n",
    "    'Antidepressant_yes': 2\n",
    "}\n",
    "# Create TableOne\n",
    "table_demo = TableOne(combined_data, columns=columns, categorical=categorical, groupby=groupby, decimals=decimals, pval=True)\n",
    "\n",
    "# Print \n",
    "print(table_demo.tabulate(tablefmt=\"fancy_grid\"))"
   ]
  },
  {
   "cell_type": "markdown",
   "id": "d560e55f-8929-4df7-9a4e-9046b0e2a90d",
   "metadata": {},
   "source": [
    "### Fit default model"
   ]
  },
  {
   "cell_type": "code",
   "execution_count": 105,
   "id": "324acb31-b37f-491c-b61a-18323c4b9b88",
   "metadata": {
    "tags": []
   },
   "outputs": [],
   "source": [
    "# List of phase descriptions\n",
    "phase_descriptions = [\n",
    "    \"Driving Features\", #0\n",
    "    \"Demographics + Driving Features\", #1\n",
    "    \"Antidepressant + Driving Features\", #2\n",
    "    \"Total + Driving Features\", #3\n",
    "    \"Antidepressant + Demographics + Driving Features\",#4\n",
    "    \"Total + Demographics + Driving Features\"#5\n",
    "]\n",
    "\n",
    "# List of train and test data frames\n",
    "train_dfs = [X_train0, X_train1, X_train2, X_train3, X_train4, X_train5]\n",
    "test_dfs = [X_test0, X_test1, X_test2, X_test3, X_test4, X_test5]"
   ]
  },
  {
   "cell_type": "code",
   "execution_count": 106,
   "id": "4f69a27e-f6c7-464a-a517-2bed5001dcfb",
   "metadata": {
    "tags": []
   },
   "outputs": [
    {
     "name": "stdout",
     "output_type": "stream",
     "text": [
      "Phase 0: Driving Features\n",
      "Accuracy: 0.74\n",
      "Precision: 0.66\n",
      "Recall: 0.76\n",
      "F1 Score: 0.71\n",
      "AUC-ROC: 0.81\n",
      "\n",
      "\n",
      "Phase 1: Demographics + Driving Features\n",
      "Accuracy: 0.81\n",
      "Precision: 0.75\n",
      "Recall: 0.81\n",
      "F1 Score: 0.78\n",
      "AUC-ROC: 0.91\n",
      "\n",
      "\n",
      "Phase 2: Antidepressant + Driving Features\n",
      "Accuracy: 0.74\n",
      "Precision: 0.66\n",
      "Recall: 0.76\n",
      "F1 Score: 0.71\n",
      "AUC-ROC: 0.81\n",
      "\n",
      "\n",
      "Phase 3: Total + Driving Features\n",
      "Accuracy: 0.75\n",
      "Precision: 0.67\n",
      "Recall: 0.78\n",
      "F1 Score: 0.72\n",
      "AUC-ROC: 0.81\n",
      "\n",
      "\n",
      "Phase 4: Antidepressant + Demographics + Driving Features\n",
      "Accuracy: 0.81\n",
      "Precision: 0.75\n",
      "Recall: 0.81\n",
      "F1 Score: 0.78\n",
      "AUC-ROC: 0.91\n",
      "\n",
      "\n",
      "Phase 5: Total + Demographics + Driving Features\n",
      "Accuracy: 0.82\n",
      "Precision: 0.76\n",
      "Recall: 0.82\n",
      "F1 Score: 0.79\n",
      "AUC-ROC: 0.90\n",
      "\n",
      "\n"
     ]
    }
   ],
   "source": [
    "# Loop through each phase and apply default_fit\n",
    "for i in range(len(phase_descriptions)):\n",
    "    print(f\"Phase {i}: {phase_descriptions[i]}\")\n",
    "    default_fit(my_xgb, train_dfs[i], y_train, test_dfs[i], y_test)\n",
    "    print('\\n')"
   ]
  },
  {
   "cell_type": "markdown",
   "id": "d5de77e9-a6f9-4074-ae93-e2b215705cf7",
   "metadata": {},
   "source": [
    "### GridSearchCV"
   ]
  },
  {
   "cell_type": "code",
   "execution_count": 107,
   "id": "fdcc32b8-639e-45e6-97f0-42f3eefc763d",
   "metadata": {
    "tags": []
   },
   "outputs": [
    {
     "name": "stdout",
     "output_type": "stream",
     "text": [
      "Phase 0: Driving Features\n",
      "Best Parameters found:  {'colsample_bytree': 1.0, 'gamma': 0, 'learning_rate': 0.01, 'max_depth': 3, 'n_estimators': 200, 'random_state': 42, 'subsample': 0.6}\n",
      "model performance on train set\n",
      "Accuracy: 0.78\n",
      "Precision: 0.76\n",
      "Recall: 0.79\n",
      "F1 Score: 0.77\n",
      "AUC-ROC: 0.85\n",
      "model performance on test set\n",
      "Accuracy: 0.83\n",
      "Precision: 0.77\n",
      "Recall: 0.85\n",
      "F1 Score: 0.81\n",
      "AUC-ROC: 0.85\n",
      "\n",
      "\n",
      "Phase 1: Demographics + Driving Features\n",
      "Best Parameters found:  {'colsample_bytree': 0.9, 'gamma': 0.2, 'learning_rate': 0.1, 'max_depth': 3, 'n_estimators': 100, 'random_state': 42, 'subsample': 0.8}\n",
      "model performance on train set\n",
      "Accuracy: 0.96\n",
      "Precision: 0.98\n",
      "Recall: 0.94\n",
      "F1 Score: 0.96\n",
      "AUC-ROC: 0.99\n",
      "model performance on test set\n",
      "Accuracy: 0.84\n",
      "Precision: 0.82\n",
      "Recall: 0.77\n",
      "F1 Score: 0.79\n",
      "AUC-ROC: 0.92\n",
      "\n",
      "\n",
      "Phase 2: Antidepressant + Driving Features\n",
      "Best Parameters found:  {'colsample_bytree': 1.0, 'gamma': 0, 'learning_rate': 0.01, 'max_depth': 3, 'n_estimators': 200, 'random_state': 42, 'subsample': 0.6}\n",
      "model performance on train set\n",
      "Accuracy: 0.78\n",
      "Precision: 0.76\n",
      "Recall: 0.79\n",
      "F1 Score: 0.77\n",
      "AUC-ROC: 0.85\n",
      "model performance on test set\n",
      "Accuracy: 0.83\n",
      "Precision: 0.77\n",
      "Recall: 0.85\n",
      "F1 Score: 0.81\n",
      "AUC-ROC: 0.85\n",
      "\n",
      "\n",
      "Phase 3: Total + Driving Features\n",
      "Best Parameters found:  {'colsample_bytree': 0.9, 'gamma': 0, 'learning_rate': 0.01, 'max_depth': 3, 'n_estimators': 200, 'random_state': 42, 'subsample': 1.0}\n",
      "model performance on train set\n",
      "Accuracy: 0.81\n",
      "Precision: 0.76\n",
      "Recall: 0.86\n",
      "F1 Score: 0.81\n",
      "AUC-ROC: 0.88\n",
      "model performance on test set\n",
      "Accuracy: 0.81\n",
      "Precision: 0.71\n",
      "Recall: 0.88\n",
      "F1 Score: 0.79\n",
      "AUC-ROC: 0.85\n",
      "\n",
      "\n",
      "Phase 4: Antidepressant + Demographics + Driving Features\n",
      "Best Parameters found:  {'colsample_bytree': 0.9, 'gamma': 0.2, 'learning_rate': 0.1, 'max_depth': 3, 'n_estimators': 100, 'random_state': 42, 'subsample': 0.8}\n",
      "model performance on train set\n",
      "Accuracy: 0.96\n",
      "Precision: 0.98\n",
      "Recall: 0.94\n",
      "F1 Score: 0.96\n",
      "AUC-ROC: 0.99\n",
      "model performance on test set\n",
      "Accuracy: 0.84\n",
      "Precision: 0.83\n",
      "Recall: 0.77\n",
      "F1 Score: 0.80\n",
      "AUC-ROC: 0.91\n",
      "\n",
      "\n",
      "Phase 5: Total + Demographics + Driving Features\n",
      "Best Parameters found:  {'colsample_bytree': 0.8, 'gamma': 0, 'learning_rate': 0.01, 'max_depth': 3, 'n_estimators': 300, 'random_state': 42, 'subsample': 0.8}\n",
      "model performance on train set\n",
      "Accuracy: 0.91\n",
      "Precision: 0.94\n",
      "Recall: 0.86\n",
      "F1 Score: 0.90\n",
      "AUC-ROC: 0.96\n",
      "model performance on test set\n",
      "Accuracy: 0.86\n",
      "Precision: 0.82\n",
      "Recall: 0.84\n",
      "F1 Score: 0.83\n",
      "AUC-ROC: 0.96\n",
      "\n",
      "\n",
      "CPU times: user 4min 45s, sys: 13.2 s, total: 4min 58s\n",
      "Wall time: 6min 20s\n"
     ]
    }
   ],
   "source": [
    "%%time\n",
    "# List to store model results\n",
    "results = []\n",
    "\n",
    "# Loop through each phase and apply tune_params\n",
    "for i in range(len(phase_descriptions)):\n",
    "    print(f\"Phase {i}: {phase_descriptions[i]}\")\n",
    "    \n",
    "    # Run tune_params for each phase\n",
    "    best_model, y_pred_best, y_pred_prob_best = tune_params(\n",
    "        my_xgb, param_xgb, train_dfs[i], y_train, test_dfs[i], y_test, cv=my_cv, groups=groups, scoring='recall', n_jobs=-1\n",
    "    )\n",
    "    \n",
    "    # Store the results in a dictionary\n",
    "    result_dict = {\n",
    "        'best_model': best_model,\n",
    "\n",
    "        'y_pred_best': y_pred_best,\n",
    "        'y_pred_prob_best': y_pred_prob_best\n",
    "    }\n",
    "    results.append(result_dict)\n",
    "    \n",
    "    print('\\n')"
   ]
  },
  {
   "cell_type": "markdown",
   "id": "086f291a-f378-4d5e-a243-c42a15551890",
   "metadata": {
    "tags": []
   },
   "source": [
    "### Plot feature importance"
   ]
  },
  {
   "cell_type": "code",
   "execution_count": 108,
   "id": "b492d0e6-8f4d-4d84-81bf-4fa7f5f6383c",
   "metadata": {
    "collapsed": true,
    "jupyter": {
     "outputs_hidden": true
    },
    "tags": []
   },
   "outputs": [
    {
     "data": {
      "image/png": "[encoded data removed]",
      "text/plain": [
       "<Figure size 1200x1000 with 1 Axes>"
      ]
     },
     "metadata": {},
     "output_type": "display_data"
    },
    {
     "data": {
      "image/png": "[encoded data removed]",
      "text/plain": [
       "<Figure size 1200x1000 with 1 Axes>"
      ]
     },
     "metadata": {},
     "output_type": "display_data"
    },
    {
     "data": {
      "image/png": "[encoded data removed]",
      "text/plain": [
       "<Figure size 1200x1000 with 1 Axes>"
      ]
     },
     "metadata": {},
     "output_type": "display_data"
    },
    {
     "data": {
      "image/png": "[encoded data removed]",
      "text/plain": [
       "<Figure size 1200x1000 with 1 Axes>"
      ]
     },
     "metadata": {},
     "output_type": "display_data"
    }
   ],
   "source": [
    "# plot feature importance\n",
    "fea_impor(results[0]['best_model'], importance_type=\"gain\", max_num_features=None, model_name='Driving Features')\n",
    "fea_impor(results[1]['best_model'], importance_type=\"gain\", max_num_features=None, model_name='Demographics + Driving Features')\n",
    "fea_impor(results[2]['best_model'], importance_type=\"gain\", max_num_features=None, model_name='Antidepressant + Driving Features')\n",
    "#fea_impor(results[3]['best_model'], importance_type=\"gain\", max_num_features=None, model_name='Total Classes of Medications + Driving Features')\n",
    "#fea_impor(results[4]['best_model'], importance_type=\"gain\", max_num_features=None, model_name='Antidepressant + Demographics + Driving Features')\n",
    "fea_impor(results[5]['best_model'], importance_type=\"gain\", max_num_features=None, model_name='Total Classes of Medications + Demographics + Driving Features')\n",
    "feature_importance = results[5]['best_model'].get_booster().get_score(importance_type='gain')\n",
    "#print(feature_importance)"
   ]
  },
  {
   "cell_type": "markdown",
   "id": "b9bb3e23-4a65-434d-a285-5a18fa3bcdf1",
   "metadata": {
    "tags": []
   },
   "source": [
    "### Bootstrapping"
   ]
  },
  {
   "cell_type": "code",
   "execution_count": 109,
   "id": "17c9a381-6add-44b5-a083-1e880365032b",
   "metadata": {
    "tags": []
   },
   "outputs": [
    {
     "name": "stdout",
     "output_type": "stream",
     "text": [
      "Phase 0: Driving Features\n",
      "Accuracy: 0.83, CI: (np.float64(0.78), np.float64(0.88)), Std Dev: 0.03\n",
      "Precision: 0.77, CI: (np.float64(0.68), np.float64(0.85)), Std Dev: 0.04\n",
      "Recall: 0.85, CI: (np.float64(0.77), np.float64(0.92)), Std Dev: 0.04\n",
      "Specificity: 0.82, CI: (np.float64(0.75), np.float64(0.89)), Std Dev: 0.03\n",
      "F1 Score: 0.81, CI: (np.float64(0.74), np.float64(0.86)), Std Dev: 0.03\n",
      "ROC AUC: 0.85, CI: (np.float64(0.8), np.float64(0.91)), Std Dev: 0.03\n",
      "CPU times: user 21min 44s, sys: 1.12 s, total: 21min 45s\n",
      "Wall time: 38.2 s\n"
     ]
    }
   ],
   "source": [
    "%%time\n",
    "# Phase 0 (Driving Features)\n",
    "print(\"Phase 0: Driving Features\")\n",
    "formatted_metrics_0, metrics_ci_0, metrics_std_0, tprs_0, mean_fpr_0 = my_bootstrap(\n",
    "    results[0]['best_model'], X_test0, y_test, num_bootstraps=1000, sample_fraction=0.25\n",
    ")\n"
   ]
  },
  {
   "cell_type": "code",
   "execution_count": 110,
   "id": "1316f36a-e32e-42f0-bb95-967bb9465cb2",
   "metadata": {
    "tags": []
   },
   "outputs": [
    {
     "name": "stdout",
     "output_type": "stream",
     "text": [
      "Phase 1: Demographics + Driving Features\n",
      "Accuracy: 0.84, CI: (np.float64(0.79), np.float64(0.89)), Std Dev: 0.03\n",
      "Precision: 0.82, CI: (np.float64(0.74), np.float64(0.9)), Std Dev: 0.04\n",
      "Recall: 0.77, CI: (np.float64(0.68), np.float64(0.85)), Std Dev: 0.04\n",
      "Specificity: 0.88, CI: (np.float64(0.83), np.float64(0.94)), Std Dev: 0.03\n",
      "F1 Score: 0.79, CI: (np.float64(0.73), np.float64(0.85)), Std Dev: 0.03\n",
      "ROC AUC: 0.92, CI: (np.float64(0.89), np.float64(0.95)), Std Dev: 0.02\n",
      "CPU times: user 26min 20s, sys: 977 ms, total: 26min 20s\n",
      "Wall time: 43.7 s\n"
     ]
    }
   ],
   "source": [
    "%%time\n",
    "# Phase 1 (Demographics + Driving Features)\n",
    "print(\"Phase 1: Demographics + Driving Features\")\n",
    "formatted_metrics_1, metrics_ci_1, metrics_std_1, tprs_1, mean_fpr_1 = my_bootstrap(\n",
    "    results[1]['best_model'], X_test1, y_test, num_bootstraps=1000, sample_fraction=0.25\n",
    ")"
   ]
  },
  {
   "cell_type": "code",
   "execution_count": 111,
   "id": "bb38b5d0-2133-4d17-b5d9-717cc6333057",
   "metadata": {
    "tags": []
   },
   "outputs": [
    {
     "name": "stdout",
     "output_type": "stream",
     "text": [
      "Phase 2: Antidepressant + Driving Features\n",
      "Accuracy: 0.83, CI: (np.float64(0.78), np.float64(0.88)), Std Dev: 0.02\n",
      "Precision: 0.77, CI: (np.float64(0.69), np.float64(0.85)), Std Dev: 0.04\n",
      "Recall: 0.84, CI: (np.float64(0.77), np.float64(0.91)), Std Dev: 0.04\n",
      "Specificity: 0.82, CI: (np.float64(0.76), np.float64(0.88)), Std Dev: 0.03\n",
      "F1 Score: 0.8, CI: (np.float64(0.74), np.float64(0.86)), Std Dev: 0.03\n",
      "ROC AUC: 0.85, CI: (np.float64(0.8), np.float64(0.91)), Std Dev: 0.03\n",
      "CPU times: user 19min 11s, sys: 885 ms, total: 19min 12s\n",
      "Wall time: 35.9 s\n"
     ]
    }
   ],
   "source": [
    "%%time\n",
    "# Phase 2 (Antidepressant + Driving Features)\n",
    "print(\"Phase 2: Antidepressant + Driving Features\")\n",
    "formatted_metrics_2, metrics_ci_2, metrics_std_2, tprs_2, mean_fpr_2 = my_bootstrap(\n",
    "    results[2]['best_model'], X_test2, y_test, num_bootstraps=1000, sample_fraction=0.25\n",
    ")"
   ]
  },
  {
   "cell_type": "code",
   "execution_count": 112,
   "id": "7a6f03a4-efcb-4457-ad99-9822749d82ee",
   "metadata": {
    "tags": []
   },
   "outputs": [
    {
     "name": "stdout",
     "output_type": "stream",
     "text": [
      "Phase 3: Total + Driving Features\n",
      "Accuracy: 0.81, CI: (np.float64(0.75), np.float64(0.86)), Std Dev: 0.03\n",
      "Precision: 0.71, CI: (np.float64(0.63), np.float64(0.79)), Std Dev: 0.04\n",
      "Recall: 0.88, CI: (np.float64(0.81), np.float64(0.94)), Std Dev: 0.03\n",
      "Specificity: 0.75, CI: (np.float64(0.68), np.float64(0.82)), Std Dev: 0.04\n",
      "F1 Score: 0.79, CI: (np.float64(0.72), np.float64(0.85)), Std Dev: 0.03\n",
      "ROC AUC: 0.84, CI: (np.float64(0.79), np.float64(0.9)), Std Dev: 0.03\n",
      "CPU times: user 21min 33s, sys: 928 ms, total: 21min 34s\n",
      "Wall time: 38.1 s\n"
     ]
    }
   ],
   "source": [
    "%%time\n",
    "# Phase 3 (Total + Driving Features)\n",
    "print(\"Phase 3: Total + Driving Features\")\n",
    "formatted_metrics_3, metrics_ci_3, metrics_std_3, tprs_3, mean_fpr_3 = my_bootstrap(\n",
    "    results[3]['best_model'], X_test3, y_test, num_bootstraps=1000, sample_fraction=0.25\n",
    ")"
   ]
  },
  {
   "cell_type": "code",
   "execution_count": 113,
   "id": "353d483c-fc20-47a5-8e96-4ac8256544c1",
   "metadata": {
    "tags": []
   },
   "outputs": [
    {
     "name": "stdout",
     "output_type": "stream",
     "text": [
      "Phase 4: Antidepressant + Demographics + Driving Features\n",
      "Accuracy: 0.84, CI: (np.float64(0.79), np.float64(0.88)), Std Dev: 0.02\n",
      "Precision: 0.83, CI: (np.float64(0.75), np.float64(0.9)), Std Dev: 0.04\n",
      "Recall: 0.77, CI: (np.float64(0.68), np.float64(0.85)), Std Dev: 0.04\n",
      "Specificity: 0.89, CI: (np.float64(0.83), np.float64(0.94)), Std Dev: 0.03\n",
      "F1 Score: 0.8, CI: (np.float64(0.73), np.float64(0.86)), Std Dev: 0.03\n",
      "ROC AUC: 0.91, CI: (np.float64(0.87), np.float64(0.94)), Std Dev: 0.02\n",
      "CPU times: user 25min 26s, sys: 1.36 s, total: 25min 28s\n",
      "Wall time: 43.2 s\n"
     ]
    }
   ],
   "source": [
    "%%time\n",
    "# Phase 4 (Antidepressant + Demographics + Driving Features)\n",
    "print(\"Phase 4: Antidepressant + Demographics + Driving Features\")\n",
    "formatted_metrics_4, metrics_ci_4, metrics_std_4,  tprs_4, mean_fpr_4 = my_bootstrap(\n",
    "    results[4]['best_model'], X_test4, y_test, num_bootstraps=1000, sample_fraction=0.25\n",
    ")"
   ]
  },
  {
   "cell_type": "code",
   "execution_count": 114,
   "id": "06a000e7-82e8-49fc-9c34-4bd7bc4c57e5",
   "metadata": {
    "tags": []
   },
   "outputs": [
    {
     "name": "stdout",
     "output_type": "stream",
     "text": [
      "Phase 5: Total + Demographics + Driving Features\n",
      "Accuracy: 0.86, CI: (np.float64(0.81), np.float64(0.9)), Std Dev: 0.02\n",
      "Precision: 0.82, CI: (np.float64(0.75), np.float64(0.89)), Std Dev: 0.04\n",
      "Recall: 0.84, CI: (np.float64(0.76), np.float64(0.91)), Std Dev: 0.04\n",
      "Specificity: 0.87, CI: (np.float64(0.82), np.float64(0.92)), Std Dev: 0.03\n",
      "F1 Score: 0.83, CI: (np.float64(0.77), np.float64(0.88)), Std Dev: 0.03\n",
      "ROC AUC: 0.96, CI: (np.float64(0.93), np.float64(0.98)), Std Dev: 0.01\n",
      "CPU times: user 23min 6s, sys: 1.19 s, total: 23min 7s\n",
      "Wall time: 40.5 s\n"
     ]
    }
   ],
   "source": [
    "%%time\n",
    "# Phase 5 (Total + Demographics + Driving Features)\n",
    "print(\"Phase 5: Total + Demographics + Driving Features\")\n",
    "formatted_metrics_5, metrics_ci_5, metrics_std_5, tprs_5, mean_fpr_5 = my_bootstrap(\n",
    "    results[5]['best_model'], X_test5, y_test, num_bootstraps=1000, sample_fraction=0.25\n",
    ")"
   ]
  },
  {
   "cell_type": "code",
   "execution_count": 115,
   "id": "67ec2962-f704-4a9e-9648-e2321016bdf0",
   "metadata": {
    "tags": []
   },
   "outputs": [
    {
     "data": {
      "image/png": "[encoded data removed]",
      "text/plain": [
       "<Figure size 640x480 with 1 Axes>"
      ]
     },
     "metadata": {},
     "output_type": "display_data"
    }
   ],
   "source": [
    "# Calculate the mean and standard deviation for TPR\n",
    "mean_tpr_0 = np.mean(tprs_0, axis=0)\n",
    "std_tpr_0 = np.std(tprs_0, axis=0)\n",
    "\n",
    "mean_tpr_1 = np.mean(tprs_1, axis=0)\n",
    "std_tpr_1 = np.std(tprs_1, axis=0)\n",
    "\n",
    "mean_tpr_2 = np.mean(tprs_2, axis=0)\n",
    "std_tpr_2 = np.std(tprs_2, axis=0)\n",
    "\n",
    "mean_tpr_3 = np.mean(tprs_3, axis=0)\n",
    "std_tpr_3 = np.std(tprs_3, axis=0)\n",
    "\n",
    "mean_tpr_4 = np.mean(tprs_4, axis=0)\n",
    "std_tpr_4 = np.std(tprs_4, axis=0)\n",
    "\n",
    "mean_tpr_5 = np.mean(tprs_5, axis=0)\n",
    "std_tpr_5 = np.std(tprs_5, axis=0)\n",
    "\n",
    "\n",
    "colors = plt.get_cmap('Dark2').colors \n",
    "# Plot the ROC curve with confidence intervals\n",
    "plt.plot(mean_fpr_0, mean_tpr_0, color=colors[0], linestyle='-', alpha=0.7, label=f'Model 0:Driving: ROC AUC=0.84')\n",
    "\n",
    "# Phase 1\n",
    "plt.plot(mean_fpr_1, mean_tpr_1, color=colors[1], linestyle='-', alpha=0.7, label=f'Model 1: Demographics + Driving Features: ROC AUC=0.85')\n",
    "\n",
    "# Phase 2a\n",
    "plt.plot(mean_fpr_2, mean_tpr_2, color=colors[2], linestyle='-.', alpha=0.7, label=f'Model 2a: Antidepressant + Driving Features: ROC AUC=0.83')\n",
    "\n",
    "# Phase 2b\n",
    "plt.plot(mean_fpr_3, mean_tpr_3, color=colors[7], linestyle=':', alpha=0.7, label=f'Model 2b: Total Classes of Medications + Driving Features: ROC AUC=0.86')\n",
    "\n",
    "# Phase 3a\n",
    "plt.plot(mean_fpr_4, mean_tpr_4, color=colors[4], linestyle='-.',alpha=0.7, label=f'Model 3a: Antidepressant + Demographics + Driving Features: ROC AUC=0.89')\n",
    "\n",
    "# Phase 3b\n",
    "plt.plot(mean_fpr_5, mean_tpr_5, color=colors[5], linestyle='--', alpha=0.7, label=f'Model 3b: Total Classes of Medications + Demographics + Driving Features: ROC AUC=0.86')\n",
    "\n",
    "# Plot the diagonal (random guessing) line\n",
    "plt.plot([0, 1], [0, 1], linestyle='--', color='grey', label='Random classifier')\n",
    "\n",
    "plt.rcParams.update({'font.size': 6})\n",
    "plt.title('ROC Curves for Different Models')\n",
    "\n",
    "# Axis labels\n",
    "plt.xlabel('False Positive Rate')\n",
    "plt.ylabel('True Positive Rate')\n",
    "\n",
    "# Show the legend and grid\n",
    "plt.legend()\n",
    "plt.grid()\n",
    "\n",
    "plt.savefig('auc_fig_no_anti.png',dpi=600)\n",
    "\n",
    "# Display the plot\n",
    "plt.show()\n",
    "\n",
    "# NOTE: the AUC SCORE WAS NOT UPDATE in the output figure"
   ]
  },
  {
   "cell_type": "markdown",
   "id": "f914822c-9f31-4fbb-b6ab-69ad6959fdbe",
   "metadata": {},
   "source": [
    "## Ranking"
   ]
  },
  {
   "cell_type": "code",
   "execution_count": 116,
   "id": "2727be1c-3f8d-4af8-b923-1372c68db6ec",
   "metadata": {
    "tags": []
   },
   "outputs": [
    {
     "name": "stdout",
     "output_type": "stream",
     "text": [
      "{'Phase': ['Driving Features', 'Demographics + Driving Features', 'Antidepressant + Driving Features', 'Total + Driving Features', 'Antidepressant + Demographics + Driving Features', 'Total + Demographics + Driving Features'], 'Precision': [np.float64(0.77), np.float64(0.82), np.float64(0.77), np.float64(0.71), np.float64(0.83), np.float64(0.82)], 'Recall': [np.float64(0.85), np.float64(0.77), np.float64(0.84), np.float64(0.88), np.float64(0.77), np.float64(0.84)], 'F1 Score': [np.float64(0.81), np.float64(0.79), np.float64(0.8), np.float64(0.79), np.float64(0.8), np.float64(0.83)], 'ROC AUC': [np.float64(0.85), np.float64(0.92), np.float64(0.85), np.float64(0.84), np.float64(0.91), np.float64(0.96)]}\n"
     ]
    }
   ],
   "source": [
    "data_performance = {\n",
    "    'Phase': ['Driving Features', \n",
    "              'Demographics + Driving Features', \n",
    "              'Antidepressant + Driving Features', \n",
    "              'Total + Driving Features', \n",
    "              'Antidepressant + Demographics + Driving Features', \n",
    "              'Total + Demographics + Driving Features'],\n",
    "    'Precision': [],\n",
    "    'Recall': [],\n",
    "    'F1 Score': [],\n",
    "    'ROC AUC': [],\n",
    "}\n",
    "\n",
    "# List of formatted_metrics for each phase\n",
    "all_phases_metrics = [\n",
    "    formatted_metrics_0,  # Replace this with metrics for \"Driving Features\"\n",
    "    formatted_metrics_1,  # Replace this with metrics for \"Demographics + Driving Features\"\n",
    "    formatted_metrics_2,  # Replace this with metrics for \"Antidepressant + Driving Features\"\n",
    "    formatted_metrics_3,  # Replace this with metrics for \"Total + Driving Features\"\n",
    "    formatted_metrics_4,  # Replace this with metrics for \"Antidepressant + Demographics + Driving Features\"\n",
    "    formatted_metrics_5,  # Replace this with metrics for \"Total + Demographics + Driving Features\"\n",
    "]\n",
    "\n",
    "# Populate the metrics for each phase\n",
    "for metrics in all_phases_metrics:\n",
    "    data_performance['Precision'].append(metrics['precision'])\n",
    "    data_performance['Recall'].append(metrics['recall'])\n",
    "    data_performance['F1 Score'].append(metrics['f1_score'])\n",
    "    data_performance['ROC AUC'].append(metrics['roc_auc'])\n",
    "\n",
    "# Display the dictionary\n",
    "print(data_performance)"
   ]
  },
  {
   "cell_type": "code",
   "execution_count": 117,
   "id": "7dfa2ea2-4ca5-4fc5-bf02-766088a401ea",
   "metadata": {
    "tags": []
   },
   "outputs": [],
   "source": [
    "df_pf = pd.DataFrame(data_performance)"
   ]
  },
  {
   "cell_type": "code",
   "execution_count": 118,
   "id": "aaa036f2-5d4e-451b-ad34-6012465ad760",
   "metadata": {
    "tags": []
   },
   "outputs": [
    {
     "data": {
      "text/html": [
       "<div>\n",
       "<style scoped>\n",
       "    .dataframe tbody tr th:only-of-type {\n",
       "        vertical-align: middle;\n",
       "    }\n",
       "\n",
       "    .dataframe tbody tr th {\n",
       "        vertical-align: top;\n",
       "    }\n",
       "\n",
       "    .dataframe thead th {\n",
       "        text-align: right;\n",
       "    }\n",
       "</style>\n",
       "<table border=\"1\" class=\"dataframe\">\n",
       "  <thead>\n",
       "    <tr style=\"text-align: right;\">\n",
       "      <th></th>\n",
       "      <th>Phase</th>\n",
       "      <th>Precision</th>\n",
       "      <th>Recall</th>\n",
       "      <th>F1 Score</th>\n",
       "      <th>ROC AUC</th>\n",
       "      <th>Precision Rank</th>\n",
       "      <th>Recall Rank</th>\n",
       "      <th>F1 Score Rank</th>\n",
       "      <th>ROC AUC Rank</th>\n",
       "    </tr>\n",
       "  </thead>\n",
       "  <tbody>\n",
       "    <tr>\n",
       "      <th>0</th>\n",
       "      <td>Driving Features</td>\n",
       "      <td>0.77</td>\n",
       "      <td>0.85</td>\n",
       "      <td>0.81</td>\n",
       "      <td>0.85</td>\n",
       "      <td>4.5</td>\n",
       "      <td>2.0</td>\n",
       "      <td>2.0</td>\n",
       "      <td>4.5</td>\n",
       "    </tr>\n",
       "    <tr>\n",
       "      <th>1</th>\n",
       "      <td>Demographics + Driving Features</td>\n",
       "      <td>0.82</td>\n",
       "      <td>0.77</td>\n",
       "      <td>0.79</td>\n",
       "      <td>0.92</td>\n",
       "      <td>2.5</td>\n",
       "      <td>5.5</td>\n",
       "      <td>5.5</td>\n",
       "      <td>2.0</td>\n",
       "    </tr>\n",
       "    <tr>\n",
       "      <th>2</th>\n",
       "      <td>Antidepressant + Driving Features</td>\n",
       "      <td>0.77</td>\n",
       "      <td>0.84</td>\n",
       "      <td>0.80</td>\n",
       "      <td>0.85</td>\n",
       "      <td>4.5</td>\n",
       "      <td>3.5</td>\n",
       "      <td>3.5</td>\n",
       "      <td>4.5</td>\n",
       "    </tr>\n",
       "    <tr>\n",
       "      <th>3</th>\n",
       "      <td>Total + Driving Features</td>\n",
       "      <td>0.71</td>\n",
       "      <td>0.88</td>\n",
       "      <td>0.79</td>\n",
       "      <td>0.84</td>\n",
       "      <td>6.0</td>\n",
       "      <td>1.0</td>\n",
       "      <td>5.5</td>\n",
       "      <td>6.0</td>\n",
       "    </tr>\n",
       "    <tr>\n",
       "      <th>4</th>\n",
       "      <td>Antidepressant + Demographics + Driving Features</td>\n",
       "      <td>0.83</td>\n",
       "      <td>0.77</td>\n",
       "      <td>0.80</td>\n",
       "      <td>0.91</td>\n",
       "      <td>1.0</td>\n",
       "      <td>5.5</td>\n",
       "      <td>3.5</td>\n",
       "      <td>3.0</td>\n",
       "    </tr>\n",
       "    <tr>\n",
       "      <th>5</th>\n",
       "      <td>Total + Demographics + Driving Features</td>\n",
       "      <td>0.82</td>\n",
       "      <td>0.84</td>\n",
       "      <td>0.83</td>\n",
       "      <td>0.96</td>\n",
       "      <td>2.5</td>\n",
       "      <td>3.5</td>\n",
       "      <td>1.0</td>\n",
       "      <td>1.0</td>\n",
       "    </tr>\n",
       "  </tbody>\n",
       "</table>\n",
       "</div>"
      ],
      "text/plain": [
       "                                              Phase  Precision  Recall  \\\n",
       "0                                  Driving Features       0.77    0.85   \n",
       "1                   Demographics + Driving Features       0.82    0.77   \n",
       "2                 Antidepressant + Driving Features       0.77    0.84   \n",
       "3                          Total + Driving Features       0.71    0.88   \n",
       "4  Antidepressant + Demographics + Driving Features       0.83    0.77   \n",
       "5           Total + Demographics + Driving Features       0.82    0.84   \n",
       "\n",
       "   F1 Score  ROC AUC  Precision Rank  Recall Rank  F1 Score Rank  ROC AUC Rank  \n",
       "0      0.81     0.85             4.5          2.0            2.0           4.5  \n",
       "1      0.79     0.92             2.5          5.5            5.5           2.0  \n",
       "2      0.80     0.85             4.5          3.5            3.5           4.5  \n",
       "3      0.79     0.84             6.0          1.0            5.5           6.0  \n",
       "4      0.80     0.91             1.0          5.5            3.5           3.0  \n",
       "5      0.83     0.96             2.5          3.5            1.0           1.0  "
      ]
     },
     "execution_count": 118,
     "metadata": {},
     "output_type": "execute_result"
    }
   ],
   "source": [
    "# create ranks\n",
    "df_pf['Precision Rank'] = df_pf['Precision'].rank(ascending=False)\n",
    "df_pf['Recall Rank'] = df_pf['Recall'].rank(ascending=False)\n",
    "df_pf['F1 Score Rank'] = df_pf['F1 Score'].rank(ascending=False)\n",
    "df_pf['ROC AUC Rank'] = df_pf['ROC AUC'].rank(ascending=False)\n",
    "\n",
    "# show the results\n",
    "df_pf"
   ]
  },
  {
   "cell_type": "code",
   "execution_count": 121,
   "id": "5df37785-8553-4801-9d28-055c7f3d3c27",
   "metadata": {},
   "outputs": [
    {
     "data": {
      "text/html": [
       "<div>\n",
       "<style scoped>\n",
       "    .dataframe tbody tr th:only-of-type {\n",
       "        vertical-align: middle;\n",
       "    }\n",
       "\n",
       "    .dataframe tbody tr th {\n",
       "        vertical-align: top;\n",
       "    }\n",
       "\n",
       "    .dataframe thead th {\n",
       "        text-align: right;\n",
       "    }\n",
       "</style>\n",
       "<table border=\"1\" class=\"dataframe\">\n",
       "  <thead>\n",
       "    <tr style=\"text-align: right;\">\n",
       "      <th></th>\n",
       "      <th>Phase</th>\n",
       "      <th>Precision</th>\n",
       "      <th>Recall</th>\n",
       "      <th>F1 Score</th>\n",
       "      <th>ROC AUC</th>\n",
       "      <th>Precision Rank</th>\n",
       "      <th>Recall Rank</th>\n",
       "      <th>F1 Score Rank</th>\n",
       "      <th>ROC AUC Rank</th>\n",
       "      <th>Mean Rank</th>\n",
       "    </tr>\n",
       "  </thead>\n",
       "  <tbody>\n",
       "    <tr>\n",
       "      <th>5</th>\n",
       "      <td>Total + Demographics + Driving Features</td>\n",
       "      <td>0.82</td>\n",
       "      <td>0.84</td>\n",
       "      <td>0.83</td>\n",
       "      <td>0.96</td>\n",
       "      <td>2.5</td>\n",
       "      <td>3.5</td>\n",
       "      <td>1.0</td>\n",
       "      <td>1.0</td>\n",
       "      <td>2.000</td>\n",
       "    </tr>\n",
       "    <tr>\n",
       "      <th>0</th>\n",
       "      <td>Driving Features</td>\n",
       "      <td>0.77</td>\n",
       "      <td>0.85</td>\n",
       "      <td>0.81</td>\n",
       "      <td>0.85</td>\n",
       "      <td>4.5</td>\n",
       "      <td>2.0</td>\n",
       "      <td>2.0</td>\n",
       "      <td>4.5</td>\n",
       "      <td>3.250</td>\n",
       "    </tr>\n",
       "    <tr>\n",
       "      <th>4</th>\n",
       "      <td>Antidepressant + Demographics + Driving Features</td>\n",
       "      <td>0.83</td>\n",
       "      <td>0.77</td>\n",
       "      <td>0.80</td>\n",
       "      <td>0.91</td>\n",
       "      <td>1.0</td>\n",
       "      <td>5.5</td>\n",
       "      <td>3.5</td>\n",
       "      <td>3.0</td>\n",
       "      <td>3.250</td>\n",
       "    </tr>\n",
       "    <tr>\n",
       "      <th>1</th>\n",
       "      <td>Demographics + Driving Features</td>\n",
       "      <td>0.82</td>\n",
       "      <td>0.77</td>\n",
       "      <td>0.79</td>\n",
       "      <td>0.92</td>\n",
       "      <td>2.5</td>\n",
       "      <td>5.5</td>\n",
       "      <td>5.5</td>\n",
       "      <td>2.0</td>\n",
       "      <td>3.875</td>\n",
       "    </tr>\n",
       "    <tr>\n",
       "      <th>2</th>\n",
       "      <td>Antidepressant + Driving Features</td>\n",
       "      <td>0.77</td>\n",
       "      <td>0.84</td>\n",
       "      <td>0.80</td>\n",
       "      <td>0.85</td>\n",
       "      <td>4.5</td>\n",
       "      <td>3.5</td>\n",
       "      <td>3.5</td>\n",
       "      <td>4.5</td>\n",
       "      <td>4.000</td>\n",
       "    </tr>\n",
       "    <tr>\n",
       "      <th>3</th>\n",
       "      <td>Total + Driving Features</td>\n",
       "      <td>0.71</td>\n",
       "      <td>0.88</td>\n",
       "      <td>0.79</td>\n",
       "      <td>0.84</td>\n",
       "      <td>6.0</td>\n",
       "      <td>1.0</td>\n",
       "      <td>5.5</td>\n",
       "      <td>6.0</td>\n",
       "      <td>4.625</td>\n",
       "    </tr>\n",
       "  </tbody>\n",
       "</table>\n",
       "</div>"
      ],
      "text/plain": [
       "                                              Phase  Precision  Recall  \\\n",
       "5           Total + Demographics + Driving Features       0.82    0.84   \n",
       "0                                  Driving Features       0.77    0.85   \n",
       "4  Antidepressant + Demographics + Driving Features       0.83    0.77   \n",
       "1                   Demographics + Driving Features       0.82    0.77   \n",
       "2                 Antidepressant + Driving Features       0.77    0.84   \n",
       "3                          Total + Driving Features       0.71    0.88   \n",
       "\n",
       "   F1 Score  ROC AUC  Precision Rank  Recall Rank  F1 Score Rank  \\\n",
       "5      0.83     0.96             2.5          3.5            1.0   \n",
       "0      0.81     0.85             4.5          2.0            2.0   \n",
       "4      0.80     0.91             1.0          5.5            3.5   \n",
       "1      0.79     0.92             2.5          5.5            5.5   \n",
       "2      0.80     0.85             4.5          3.5            3.5   \n",
       "3      0.79     0.84             6.0          1.0            5.5   \n",
       "\n",
       "   ROC AUC Rank  Mean Rank  \n",
       "5           1.0      2.000  \n",
       "0           4.5      3.250  \n",
       "4           3.0      3.250  \n",
       "1           2.0      3.875  \n",
       "2           4.5      4.000  \n",
       "3           6.0      4.625  "
      ]
     },
     "execution_count": 121,
     "metadata": {},
     "output_type": "execute_result"
    }
   ],
   "source": [
    "# Calculate the mean rank per model\n",
    "df_pf['Mean Rank'] = df_pf[['Precision Rank', 'Recall Rank', 'F1 Score Rank', 'ROC AUC Rank']].mean(axis=1)\n",
    "\n",
    "# Sort the models based on their mean rank\n",
    "df_perform_sorted = df_pf.sort_values(by='Mean Rank')\n",
    "#df_perform_sorted = df_pf.sort_index(ascending=True)\n",
    "df_perform_sorted"
   ]
  },
  {
   "cell_type": "code",
   "execution_count": null,
   "id": "fbc551e8-dc2e-4c53-850c-c0dc51020c97",
   "metadata": {},
   "outputs": [],
   "source": []
  }
 ],
 "metadata": {
  "colab": {
   "provenance": [],
   "toc_visible": true
  },
  "kernelspec": {
   "display_name": "Python 3 (ipykernel)",
   "language": "python",
   "name": "python3"
  },
  "language_info": {
   "codemirror_mode": {
    "name": "ipython",
    "version": 3
   },
   "file_extension": ".py",
   "mimetype": "text/x-python",
   "name": "python",
   "nbconvert_exporter": "python",
   "pygments_lexer": "ipython3",
   "version": "3.12.7"
  }
 },
 "nbformat": 4,
 "nbformat_minor": 5
}
